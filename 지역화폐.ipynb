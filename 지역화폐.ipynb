{
  "nbformat": 4,
  "nbformat_minor": 0,
  "metadata": {
    "colab": {
      "name": "지역화폐.ipynb",
      "provenance": [],
      "collapsed_sections": [],
      "authorship_tag": "ABX9TyOdcFBicSFITdqaCCfKO4gs",
      "include_colab_link": true
    },
    "kernelspec": {
      "name": "python3",
      "display_name": "Python 3"
    }
  },
  "cells": [
    {
      "cell_type": "markdown",
      "metadata": {
        "id": "view-in-github",
        "colab_type": "text"
      },
      "source": [
        "<a href=\"https://colab.research.google.com/github/danbikiki/machine-learning/blob/master/%EC%A7%80%EC%97%AD%ED%99%94%ED%8F%90.ipynb\" target=\"_parent\"><img src=\"https://colab.research.google.com/assets/colab-badge.svg\" alt=\"Open In Colab\"/></a>"
      ]
    },
    {
      "cell_type": "code",
      "metadata": {
        "id": "H-gIIJdQwcea",
        "colab_type": "code",
        "colab": {
          "resources": {
            "http://localhost:8080/nbextensions/google.colab/files.js": {
              "data": "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",
              "ok": true,
              "headers": [
                [
                  "content-type",
                  "application/javascript"
                ]
              ],
              "status": 200,
              "status_text": ""
            }
          },
          "base_uri": "https://localhost:8080/",
          "height": 76
        },
        "outputId": "8ca6acc2-b426-421d-f80e-550bb750c12f"
      },
      "source": [
        "from google.colab import files\n",
        "uploaded=files.upload()"
      ],
      "execution_count": 1,
      "outputs": [
        {
          "output_type": "display_data",
          "data": {
            "text/html": [
              "\n",
              "     <input type=\"file\" id=\"files-12cb4a3c-453a-44ff-9ce2-ecc4fb9dce60\" name=\"files[]\" multiple disabled\n",
              "        style=\"border:none\" />\n",
              "     <output id=\"result-12cb4a3c-453a-44ff-9ce2-ecc4fb9dce60\">\n",
              "      Upload widget is only available when the cell has been executed in the\n",
              "      current browser session. Please rerun this cell to enable.\n",
              "      </output>\n",
              "      <script src=\"/nbextensions/google.colab/files.js\"></script> "
            ],
            "text/plain": [
              "<IPython.core.display.HTML object>"
            ]
          },
          "metadata": {
            "tags": []
          }
        },
        {
          "output_type": "stream",
          "text": [
            "Saving money2.csv to money2 (3).csv\n"
          ],
          "name": "stdout"
        }
      ]
    },
    {
      "cell_type": "code",
      "metadata": {
        "id": "9LyIDnEQ8H9t",
        "colab_type": "code",
        "colab": {}
      },
      "source": [
        "#한글깨짐 해결\n",
        " #1. csv 다시저장할때 utf-8 쉼표로 분리 선택 --> 그후 encoding='euc_kr'적용함\n",
        "import pandas as pd\n",
        "df=pd.read_csv('money.csv',encoding='euc-kr')"
      ],
      "execution_count": 3,
      "outputs": []
    },
    {
      "cell_type": "code",
      "metadata": {
        "id": "UQop49ckufzz",
        "colab_type": "code",
        "colab": {
          "base_uri": "https://localhost:8080/",
          "height": 155
        },
        "outputId": "493f2e24-55a6-49f3-9ffc-470ff245bef5"
      },
      "source": [
        "df.head(3)"
      ],
      "execution_count": 4,
      "outputs": [
        {
          "output_type": "execute_result",
          "data": {
            "text/html": [
              "<div>\n",
              "<style scoped>\n",
              "    .dataframe tbody tr th:only-of-type {\n",
              "        vertical-align: middle;\n",
              "    }\n",
              "\n",
              "    .dataframe tbody tr th {\n",
              "        vertical-align: top;\n",
              "    }\n",
              "\n",
              "    .dataframe thead th {\n",
              "        text-align: right;\n",
              "    }\n",
              "</style>\n",
              "<table border=\"1\" class=\"dataframe\">\n",
              "  <thead>\n",
              "    <tr style=\"text-align: right;\">\n",
              "      <th></th>\n",
              "      <th>시군명</th>\n",
              "      <th>기준년월</th>\n",
              "      <th>월별카드발행수량(건)</th>\n",
              "      <th>월별카드충전액(천원)</th>\n",
              "      <th>월별카드사용액(천원)</th>\n",
              "      <th>월별모바일상품권이용등록자수(명)</th>\n",
              "      <th>월별모바일충전액(천원)</th>\n",
              "      <th>월별모바일사용액(천원)</th>\n",
              "      <th>월별지류상품권판매액(천원)</th>\n",
              "      <th>월별지류상품권회수액(천원)</th>\n",
              "    </tr>\n",
              "  </thead>\n",
              "  <tbody>\n",
              "    <tr>\n",
              "      <th>0</th>\n",
              "      <td>가평군</td>\n",
              "      <td>Mar-20</td>\n",
              "      <td>655.0</td>\n",
              "      <td>389311.0</td>\n",
              "      <td>297771.0</td>\n",
              "      <td>NaN</td>\n",
              "      <td>NaN</td>\n",
              "      <td>NaN</td>\n",
              "      <td>125240.0</td>\n",
              "      <td>118550.0</td>\n",
              "    </tr>\n",
              "    <tr>\n",
              "      <th>1</th>\n",
              "      <td>가평군</td>\n",
              "      <td>Feb-20</td>\n",
              "      <td>211.0</td>\n",
              "      <td>180458.0</td>\n",
              "      <td>230384.0</td>\n",
              "      <td>NaN</td>\n",
              "      <td>NaN</td>\n",
              "      <td>NaN</td>\n",
              "      <td>70190.0</td>\n",
              "      <td>95570.0</td>\n",
              "    </tr>\n",
              "    <tr>\n",
              "      <th>2</th>\n",
              "      <td>가평군</td>\n",
              "      <td>Jan-20</td>\n",
              "      <td>338.0</td>\n",
              "      <td>288742.0</td>\n",
              "      <td>247582.0</td>\n",
              "      <td>NaN</td>\n",
              "      <td>NaN</td>\n",
              "      <td>NaN</td>\n",
              "      <td>161750.0</td>\n",
              "      <td>121040.0</td>\n",
              "    </tr>\n",
              "  </tbody>\n",
              "</table>\n",
              "</div>"
            ],
            "text/plain": [
              "   시군명    기준년월  월별카드발행수량(건)  ...  월별모바일사용액(천원)  월별지류상품권판매액(천원)  월별지류상품권회수액(천원)\n",
              "0  가평군  Mar-20        655.0  ...           NaN        125240.0        118550.0\n",
              "1  가평군  Feb-20        211.0  ...           NaN         70190.0         95570.0\n",
              "2  가평군  Jan-20        338.0  ...           NaN        161750.0        121040.0\n",
              "\n",
              "[3 rows x 10 columns]"
            ]
          },
          "metadata": {
            "tags": []
          },
          "execution_count": 4
        }
      ]
    },
    {
      "cell_type": "code",
      "metadata": {
        "id": "dRP79mjpvXA9",
        "colab_type": "code",
        "colab": {
          "base_uri": "https://localhost:8080/",
          "height": 1000
        },
        "outputId": "263dd9df-c309-4f8b-d1ea-272bbb041868"
      },
      "source": [
        "df.groupby('시군명').sum()"
      ],
      "execution_count": 5,
      "outputs": [
        {
          "output_type": "execute_result",
          "data": {
            "text/html": [
              "<div>\n",
              "<style scoped>\n",
              "    .dataframe tbody tr th:only-of-type {\n",
              "        vertical-align: middle;\n",
              "    }\n",
              "\n",
              "    .dataframe tbody tr th {\n",
              "        vertical-align: top;\n",
              "    }\n",
              "\n",
              "    .dataframe thead th {\n",
              "        text-align: right;\n",
              "    }\n",
              "</style>\n",
              "<table border=\"1\" class=\"dataframe\">\n",
              "  <thead>\n",
              "    <tr style=\"text-align: right;\">\n",
              "      <th></th>\n",
              "      <th>월별카드발행수량(건)</th>\n",
              "      <th>월별카드충전액(천원)</th>\n",
              "      <th>월별카드사용액(천원)</th>\n",
              "      <th>월별모바일상품권이용등록자수(명)</th>\n",
              "      <th>월별모바일충전액(천원)</th>\n",
              "      <th>월별모바일사용액(천원)</th>\n",
              "      <th>월별지류상품권판매액(천원)</th>\n",
              "      <th>월별지류상품권회수액(천원)</th>\n",
              "    </tr>\n",
              "    <tr>\n",
              "      <th>시군명</th>\n",
              "      <th></th>\n",
              "      <th></th>\n",
              "      <th></th>\n",
              "      <th></th>\n",
              "      <th></th>\n",
              "      <th></th>\n",
              "      <th></th>\n",
              "      <th></th>\n",
              "    </tr>\n",
              "  </thead>\n",
              "  <tbody>\n",
              "    <tr>\n",
              "      <th>가평군</th>\n",
              "      <td>3918.0</td>\n",
              "      <td>2248100.0</td>\n",
              "      <td>1938817.0</td>\n",
              "      <td>0.0</td>\n",
              "      <td>0.0</td>\n",
              "      <td>0.0</td>\n",
              "      <td>1439640.0</td>\n",
              "      <td>1466500.0</td>\n",
              "    </tr>\n",
              "    <tr>\n",
              "      <th>고양시</th>\n",
              "      <td>80872.0</td>\n",
              "      <td>63126614.0</td>\n",
              "      <td>47672748.0</td>\n",
              "      <td>0.0</td>\n",
              "      <td>0.0</td>\n",
              "      <td>0.0</td>\n",
              "      <td>0.0</td>\n",
              "      <td>0.0</td>\n",
              "    </tr>\n",
              "    <tr>\n",
              "      <th>과천시</th>\n",
              "      <td>9249.0</td>\n",
              "      <td>6617717.0</td>\n",
              "      <td>5339144.0</td>\n",
              "      <td>0.0</td>\n",
              "      <td>0.0</td>\n",
              "      <td>0.0</td>\n",
              "      <td>5999440.0</td>\n",
              "      <td>4837530.0</td>\n",
              "    </tr>\n",
              "    <tr>\n",
              "      <th>광명시</th>\n",
              "      <td>26088.0</td>\n",
              "      <td>12859502.0</td>\n",
              "      <td>10070886.0</td>\n",
              "      <td>0.0</td>\n",
              "      <td>0.0</td>\n",
              "      <td>0.0</td>\n",
              "      <td>0.0</td>\n",
              "      <td>0.0</td>\n",
              "    </tr>\n",
              "    <tr>\n",
              "      <th>광주시</th>\n",
              "      <td>26087.0</td>\n",
              "      <td>16811939.0</td>\n",
              "      <td>14111783.0</td>\n",
              "      <td>0.0</td>\n",
              "      <td>0.0</td>\n",
              "      <td>0.0</td>\n",
              "      <td>0.0</td>\n",
              "      <td>0.0</td>\n",
              "    </tr>\n",
              "    <tr>\n",
              "      <th>구리시</th>\n",
              "      <td>16131.0</td>\n",
              "      <td>8676964.0</td>\n",
              "      <td>6511585.0</td>\n",
              "      <td>0.0</td>\n",
              "      <td>0.0</td>\n",
              "      <td>0.0</td>\n",
              "      <td>0.0</td>\n",
              "      <td>0.0</td>\n",
              "    </tr>\n",
              "    <tr>\n",
              "      <th>군포시</th>\n",
              "      <td>33631.0</td>\n",
              "      <td>29672228.0</td>\n",
              "      <td>25349036.0</td>\n",
              "      <td>0.0</td>\n",
              "      <td>0.0</td>\n",
              "      <td>0.0</td>\n",
              "      <td>0.0</td>\n",
              "      <td>0.0</td>\n",
              "    </tr>\n",
              "    <tr>\n",
              "      <th>김포시</th>\n",
              "      <td>0.0</td>\n",
              "      <td>0.0</td>\n",
              "      <td>0.0</td>\n",
              "      <td>105798.0</td>\n",
              "      <td>64164312.0</td>\n",
              "      <td>50624402.0</td>\n",
              "      <td>0.0</td>\n",
              "      <td>0.0</td>\n",
              "    </tr>\n",
              "    <tr>\n",
              "      <th>남양주시</th>\n",
              "      <td>41913.0</td>\n",
              "      <td>26221559.0</td>\n",
              "      <td>21194212.0</td>\n",
              "      <td>0.0</td>\n",
              "      <td>0.0</td>\n",
              "      <td>0.0</td>\n",
              "      <td>0.0</td>\n",
              "      <td>0.0</td>\n",
              "    </tr>\n",
              "    <tr>\n",
              "      <th>동두천시</th>\n",
              "      <td>7897.0</td>\n",
              "      <td>3793717.0</td>\n",
              "      <td>3232070.0</td>\n",
              "      <td>0.0</td>\n",
              "      <td>0.0</td>\n",
              "      <td>0.0</td>\n",
              "      <td>0.0</td>\n",
              "      <td>0.0</td>\n",
              "    </tr>\n",
              "    <tr>\n",
              "      <th>부천시</th>\n",
              "      <td>83361.0</td>\n",
              "      <td>56732767.0</td>\n",
              "      <td>47430400.0</td>\n",
              "      <td>0.0</td>\n",
              "      <td>0.0</td>\n",
              "      <td>0.0</td>\n",
              "      <td>0.0</td>\n",
              "      <td>0.0</td>\n",
              "    </tr>\n",
              "    <tr>\n",
              "      <th>성남시</th>\n",
              "      <td>0.0</td>\n",
              "      <td>85887567.0</td>\n",
              "      <td>75912908.0</td>\n",
              "      <td>50619.0</td>\n",
              "      <td>10130415.0</td>\n",
              "      <td>7917563.0</td>\n",
              "      <td>27538195.0</td>\n",
              "      <td>27411000.0</td>\n",
              "    </tr>\n",
              "    <tr>\n",
              "      <th>수원시</th>\n",
              "      <td>91057.0</td>\n",
              "      <td>44363168.0</td>\n",
              "      <td>33647768.0</td>\n",
              "      <td>0.0</td>\n",
              "      <td>0.0</td>\n",
              "      <td>0.0</td>\n",
              "      <td>0.0</td>\n",
              "      <td>0.0</td>\n",
              "    </tr>\n",
              "    <tr>\n",
              "      <th>시흥시</th>\n",
              "      <td>0.0</td>\n",
              "      <td>0.0</td>\n",
              "      <td>0.0</td>\n",
              "      <td>89839.0</td>\n",
              "      <td>47044837.0</td>\n",
              "      <td>37326376.0</td>\n",
              "      <td>16877293.0</td>\n",
              "      <td>14170001.0</td>\n",
              "    </tr>\n",
              "    <tr>\n",
              "      <th>안산시</th>\n",
              "      <td>58095.0</td>\n",
              "      <td>40523820.0</td>\n",
              "      <td>33152038.0</td>\n",
              "      <td>0.0</td>\n",
              "      <td>0.0</td>\n",
              "      <td>0.0</td>\n",
              "      <td>21448870.0</td>\n",
              "      <td>16598650.0</td>\n",
              "    </tr>\n",
              "    <tr>\n",
              "      <th>안성시</th>\n",
              "      <td>13690.0</td>\n",
              "      <td>13051501.0</td>\n",
              "      <td>11746925.0</td>\n",
              "      <td>0.0</td>\n",
              "      <td>0.0</td>\n",
              "      <td>0.0</td>\n",
              "      <td>0.0</td>\n",
              "      <td>0.0</td>\n",
              "    </tr>\n",
              "    <tr>\n",
              "      <th>안양시</th>\n",
              "      <td>26214.0</td>\n",
              "      <td>9968599.0</td>\n",
              "      <td>7695085.0</td>\n",
              "      <td>0.0</td>\n",
              "      <td>0.0</td>\n",
              "      <td>0.0</td>\n",
              "      <td>25355905.0</td>\n",
              "      <td>22586255.0</td>\n",
              "    </tr>\n",
              "    <tr>\n",
              "      <th>양주시</th>\n",
              "      <td>18635.0</td>\n",
              "      <td>14497360.0</td>\n",
              "      <td>12317764.0</td>\n",
              "      <td>0.0</td>\n",
              "      <td>0.0</td>\n",
              "      <td>0.0</td>\n",
              "      <td>0.0</td>\n",
              "      <td>0.0</td>\n",
              "    </tr>\n",
              "    <tr>\n",
              "      <th>양평군</th>\n",
              "      <td>12020.0</td>\n",
              "      <td>14613675.0</td>\n",
              "      <td>13486446.0</td>\n",
              "      <td>0.0</td>\n",
              "      <td>0.0</td>\n",
              "      <td>0.0</td>\n",
              "      <td>0.0</td>\n",
              "      <td>0.0</td>\n",
              "    </tr>\n",
              "    <tr>\n",
              "      <th>여주시</th>\n",
              "      <td>12052.0</td>\n",
              "      <td>6292053.0</td>\n",
              "      <td>5281201.0</td>\n",
              "      <td>0.0</td>\n",
              "      <td>0.0</td>\n",
              "      <td>0.0</td>\n",
              "      <td>0.0</td>\n",
              "      <td>0.0</td>\n",
              "    </tr>\n",
              "    <tr>\n",
              "      <th>연천군</th>\n",
              "      <td>6554.0</td>\n",
              "      <td>4102629.0</td>\n",
              "      <td>3483451.0</td>\n",
              "      <td>0.0</td>\n",
              "      <td>0.0</td>\n",
              "      <td>0.0</td>\n",
              "      <td>0.0</td>\n",
              "      <td>0.0</td>\n",
              "    </tr>\n",
              "    <tr>\n",
              "      <th>오산시</th>\n",
              "      <td>21821.0</td>\n",
              "      <td>12713965.0</td>\n",
              "      <td>10367211.0</td>\n",
              "      <td>0.0</td>\n",
              "      <td>0.0</td>\n",
              "      <td>0.0</td>\n",
              "      <td>0.0</td>\n",
              "      <td>0.0</td>\n",
              "    </tr>\n",
              "    <tr>\n",
              "      <th>용인시</th>\n",
              "      <td>63892.0</td>\n",
              "      <td>33401696.0</td>\n",
              "      <td>25710594.0</td>\n",
              "      <td>0.0</td>\n",
              "      <td>0.0</td>\n",
              "      <td>0.0</td>\n",
              "      <td>0.0</td>\n",
              "      <td>0.0</td>\n",
              "    </tr>\n",
              "    <tr>\n",
              "      <th>의왕시</th>\n",
              "      <td>10393.0</td>\n",
              "      <td>3585557.0</td>\n",
              "      <td>2702195.0</td>\n",
              "      <td>0.0</td>\n",
              "      <td>0.0</td>\n",
              "      <td>0.0</td>\n",
              "      <td>6845415.0</td>\n",
              "      <td>6059420.0</td>\n",
              "    </tr>\n",
              "    <tr>\n",
              "      <th>의정부시</th>\n",
              "      <td>29639.0</td>\n",
              "      <td>16240895.0</td>\n",
              "      <td>13787221.0</td>\n",
              "      <td>0.0</td>\n",
              "      <td>0.0</td>\n",
              "      <td>0.0</td>\n",
              "      <td>0.0</td>\n",
              "      <td>0.0</td>\n",
              "    </tr>\n",
              "    <tr>\n",
              "      <th>이천시</th>\n",
              "      <td>15696.0</td>\n",
              "      <td>10420367.0</td>\n",
              "      <td>7952910.0</td>\n",
              "      <td>0.0</td>\n",
              "      <td>0.0</td>\n",
              "      <td>0.0</td>\n",
              "      <td>0.0</td>\n",
              "      <td>0.0</td>\n",
              "    </tr>\n",
              "    <tr>\n",
              "      <th>파주시</th>\n",
              "      <td>35104.0</td>\n",
              "      <td>17269763.0</td>\n",
              "      <td>14224341.0</td>\n",
              "      <td>0.0</td>\n",
              "      <td>0.0</td>\n",
              "      <td>0.0</td>\n",
              "      <td>0.0</td>\n",
              "      <td>0.0</td>\n",
              "    </tr>\n",
              "    <tr>\n",
              "      <th>평택시</th>\n",
              "      <td>9089.0</td>\n",
              "      <td>4629417.0</td>\n",
              "      <td>4215864.0</td>\n",
              "      <td>0.0</td>\n",
              "      <td>0.0</td>\n",
              "      <td>0.0</td>\n",
              "      <td>17566705.0</td>\n",
              "      <td>12673300.0</td>\n",
              "    </tr>\n",
              "    <tr>\n",
              "      <th>포천시</th>\n",
              "      <td>6816.0</td>\n",
              "      <td>2501552.0</td>\n",
              "      <td>2003078.0</td>\n",
              "      <td>0.0</td>\n",
              "      <td>0.0</td>\n",
              "      <td>0.0</td>\n",
              "      <td>2270800.0</td>\n",
              "      <td>1797323.0</td>\n",
              "    </tr>\n",
              "    <tr>\n",
              "      <th>하남시</th>\n",
              "      <td>33367.0</td>\n",
              "      <td>33361354.0</td>\n",
              "      <td>25462840.0</td>\n",
              "      <td>0.0</td>\n",
              "      <td>0.0</td>\n",
              "      <td>0.0</td>\n",
              "      <td>0.0</td>\n",
              "      <td>0.0</td>\n",
              "    </tr>\n",
              "    <tr>\n",
              "      <th>화성시</th>\n",
              "      <td>70942.0</td>\n",
              "      <td>43701366.0</td>\n",
              "      <td>36272934.0</td>\n",
              "      <td>0.0</td>\n",
              "      <td>0.0</td>\n",
              "      <td>0.0</td>\n",
              "      <td>0.0</td>\n",
              "      <td>0.0</td>\n",
              "    </tr>\n",
              "  </tbody>\n",
              "</table>\n",
              "</div>"
            ],
            "text/plain": [
              "      월별카드발행수량(건)  월별카드충전액(천원)  ...  월별지류상품권판매액(천원)  월별지류상품권회수액(천원)\n",
              "시군명                             ...                                \n",
              "가평군        3918.0    2248100.0  ...       1439640.0       1466500.0\n",
              "고양시       80872.0   63126614.0  ...             0.0             0.0\n",
              "과천시        9249.0    6617717.0  ...       5999440.0       4837530.0\n",
              "광명시       26088.0   12859502.0  ...             0.0             0.0\n",
              "광주시       26087.0   16811939.0  ...             0.0             0.0\n",
              "구리시       16131.0    8676964.0  ...             0.0             0.0\n",
              "군포시       33631.0   29672228.0  ...             0.0             0.0\n",
              "김포시           0.0          0.0  ...             0.0             0.0\n",
              "남양주시      41913.0   26221559.0  ...             0.0             0.0\n",
              "동두천시       7897.0    3793717.0  ...             0.0             0.0\n",
              "부천시       83361.0   56732767.0  ...             0.0             0.0\n",
              "성남시           0.0   85887567.0  ...      27538195.0      27411000.0\n",
              "수원시       91057.0   44363168.0  ...             0.0             0.0\n",
              "시흥시           0.0          0.0  ...      16877293.0      14170001.0\n",
              "안산시       58095.0   40523820.0  ...      21448870.0      16598650.0\n",
              "안성시       13690.0   13051501.0  ...             0.0             0.0\n",
              "안양시       26214.0    9968599.0  ...      25355905.0      22586255.0\n",
              "양주시       18635.0   14497360.0  ...             0.0             0.0\n",
              "양평군       12020.0   14613675.0  ...             0.0             0.0\n",
              "여주시       12052.0    6292053.0  ...             0.0             0.0\n",
              "연천군        6554.0    4102629.0  ...             0.0             0.0\n",
              "오산시       21821.0   12713965.0  ...             0.0             0.0\n",
              "용인시       63892.0   33401696.0  ...             0.0             0.0\n",
              "의왕시       10393.0    3585557.0  ...       6845415.0       6059420.0\n",
              "의정부시      29639.0   16240895.0  ...             0.0             0.0\n",
              "이천시       15696.0   10420367.0  ...             0.0             0.0\n",
              "파주시       35104.0   17269763.0  ...             0.0             0.0\n",
              "평택시        9089.0    4629417.0  ...      17566705.0      12673300.0\n",
              "포천시        6816.0    2501552.0  ...       2270800.0       1797323.0\n",
              "하남시       33367.0   33361354.0  ...             0.0             0.0\n",
              "화성시       70942.0   43701366.0  ...             0.0             0.0\n",
              "\n",
              "[31 rows x 8 columns]"
            ]
          },
          "metadata": {
            "tags": []
          },
          "execution_count": 5
        }
      ]
    },
    {
      "cell_type": "code",
      "metadata": {
        "id": "7VDnoYCjLdNq",
        "colab_type": "code",
        "colab": {
          "base_uri": "https://localhost:8080/",
          "height": 90
        },
        "outputId": "3f5f87a6-113e-4fdd-f747-ae7d2e7776ce"
      },
      "source": [
        "df.columns"
      ],
      "execution_count": 6,
      "outputs": [
        {
          "output_type": "execute_result",
          "data": {
            "text/plain": [
              "Index(['시군명', '기준년월', '월별카드발행수량(건)', '월별카드충전액(천원)', '월별카드사용액(천원)',\n",
              "       '월별모바일상품권이용등록자수(명)', '월별모바일충전액(천원)', '월별모바일사용액(천원)', '월별지류상품권판매액(천원)',\n",
              "       '월별지류상품권회수액(천원)'],\n",
              "      dtype='object')"
            ]
          },
          "metadata": {
            "tags": []
          },
          "execution_count": 6
        }
      ]
    },
    {
      "cell_type": "code",
      "metadata": {
        "id": "NsE1brnuL9wZ",
        "colab_type": "code",
        "colab": {
          "base_uri": "https://localhost:8080/",
          "height": 72
        },
        "outputId": "6505726c-9508-4a81-db36-72a868f75ea0"
      },
      "source": [
        "df.columns=['SiGun','yymm','new_card','deposit','use','giftcard','mobile_deposit','mobile_use','papaer_gc_sell','paper_gc_return']\n",
        "df.columns"
      ],
      "execution_count": 7,
      "outputs": [
        {
          "output_type": "execute_result",
          "data": {
            "text/plain": [
              "Index(['SiGun', 'yymm', 'new_card', 'deposit', 'use', 'giftcard',\n",
              "       'mobile_deposit', 'mobile_use', 'papaer_gc_sell', 'paper_gc_return'],\n",
              "      dtype='object')"
            ]
          },
          "metadata": {
            "tags": []
          },
          "execution_count": 7
        }
      ]
    },
    {
      "cell_type": "code",
      "metadata": {
        "id": "SXQdyd5BKXjp",
        "colab_type": "code",
        "colab": {
          "base_uri": "https://localhost:8080/",
          "height": 217
        },
        "outputId": "b07f1bb1-e3a1-4d1a-c618-65900719d60d"
      },
      "source": [
        "df.isnull().sum()"
      ],
      "execution_count": 8,
      "outputs": [
        {
          "output_type": "execute_result",
          "data": {
            "text/plain": [
              "SiGun                0\n",
              "yymm                 0\n",
              "new_card           123\n",
              "deposit            117\n",
              "use                117\n",
              "giftcard           424\n",
              "mobile_deposit     425\n",
              "mobile_use         424\n",
              "papaer_gc_sell     339\n",
              "paper_gc_return    339\n",
              "dtype: int64"
            ]
          },
          "metadata": {
            "tags": []
          },
          "execution_count": 8
        }
      ]
    },
    {
      "cell_type": "code",
      "metadata": {
        "id": "nW6gsyVIOhs0",
        "colab_type": "code",
        "colab": {
          "base_uri": "https://localhost:8080/",
          "height": 978
        },
        "outputId": "f1e15bde-3de4-45bf-e893-b48ca28d37f0"
      },
      "source": [
        "df_group=df.groupby('SiGun').sum()\n",
        "df_group.reset_index()"
      ],
      "execution_count": 9,
      "outputs": [
        {
          "output_type": "execute_result",
          "data": {
            "text/html": [
              "<div>\n",
              "<style scoped>\n",
              "    .dataframe tbody tr th:only-of-type {\n",
              "        vertical-align: middle;\n",
              "    }\n",
              "\n",
              "    .dataframe tbody tr th {\n",
              "        vertical-align: top;\n",
              "    }\n",
              "\n",
              "    .dataframe thead th {\n",
              "        text-align: right;\n",
              "    }\n",
              "</style>\n",
              "<table border=\"1\" class=\"dataframe\">\n",
              "  <thead>\n",
              "    <tr style=\"text-align: right;\">\n",
              "      <th></th>\n",
              "      <th>SiGun</th>\n",
              "      <th>new_card</th>\n",
              "      <th>deposit</th>\n",
              "      <th>use</th>\n",
              "      <th>giftcard</th>\n",
              "      <th>mobile_deposit</th>\n",
              "      <th>mobile_use</th>\n",
              "      <th>papaer_gc_sell</th>\n",
              "      <th>paper_gc_return</th>\n",
              "    </tr>\n",
              "  </thead>\n",
              "  <tbody>\n",
              "    <tr>\n",
              "      <th>0</th>\n",
              "      <td>가평군</td>\n",
              "      <td>3918.0</td>\n",
              "      <td>2248100.0</td>\n",
              "      <td>1938817.0</td>\n",
              "      <td>0.0</td>\n",
              "      <td>0.0</td>\n",
              "      <td>0.0</td>\n",
              "      <td>1439640.0</td>\n",
              "      <td>1466500.0</td>\n",
              "    </tr>\n",
              "    <tr>\n",
              "      <th>1</th>\n",
              "      <td>고양시</td>\n",
              "      <td>80872.0</td>\n",
              "      <td>63126614.0</td>\n",
              "      <td>47672748.0</td>\n",
              "      <td>0.0</td>\n",
              "      <td>0.0</td>\n",
              "      <td>0.0</td>\n",
              "      <td>0.0</td>\n",
              "      <td>0.0</td>\n",
              "    </tr>\n",
              "    <tr>\n",
              "      <th>2</th>\n",
              "      <td>과천시</td>\n",
              "      <td>9249.0</td>\n",
              "      <td>6617717.0</td>\n",
              "      <td>5339144.0</td>\n",
              "      <td>0.0</td>\n",
              "      <td>0.0</td>\n",
              "      <td>0.0</td>\n",
              "      <td>5999440.0</td>\n",
              "      <td>4837530.0</td>\n",
              "    </tr>\n",
              "    <tr>\n",
              "      <th>3</th>\n",
              "      <td>광명시</td>\n",
              "      <td>26088.0</td>\n",
              "      <td>12859502.0</td>\n",
              "      <td>10070886.0</td>\n",
              "      <td>0.0</td>\n",
              "      <td>0.0</td>\n",
              "      <td>0.0</td>\n",
              "      <td>0.0</td>\n",
              "      <td>0.0</td>\n",
              "    </tr>\n",
              "    <tr>\n",
              "      <th>4</th>\n",
              "      <td>광주시</td>\n",
              "      <td>26087.0</td>\n",
              "      <td>16811939.0</td>\n",
              "      <td>14111783.0</td>\n",
              "      <td>0.0</td>\n",
              "      <td>0.0</td>\n",
              "      <td>0.0</td>\n",
              "      <td>0.0</td>\n",
              "      <td>0.0</td>\n",
              "    </tr>\n",
              "    <tr>\n",
              "      <th>5</th>\n",
              "      <td>구리시</td>\n",
              "      <td>16131.0</td>\n",
              "      <td>8676964.0</td>\n",
              "      <td>6511585.0</td>\n",
              "      <td>0.0</td>\n",
              "      <td>0.0</td>\n",
              "      <td>0.0</td>\n",
              "      <td>0.0</td>\n",
              "      <td>0.0</td>\n",
              "    </tr>\n",
              "    <tr>\n",
              "      <th>6</th>\n",
              "      <td>군포시</td>\n",
              "      <td>33631.0</td>\n",
              "      <td>29672228.0</td>\n",
              "      <td>25349036.0</td>\n",
              "      <td>0.0</td>\n",
              "      <td>0.0</td>\n",
              "      <td>0.0</td>\n",
              "      <td>0.0</td>\n",
              "      <td>0.0</td>\n",
              "    </tr>\n",
              "    <tr>\n",
              "      <th>7</th>\n",
              "      <td>김포시</td>\n",
              "      <td>0.0</td>\n",
              "      <td>0.0</td>\n",
              "      <td>0.0</td>\n",
              "      <td>105798.0</td>\n",
              "      <td>64164312.0</td>\n",
              "      <td>50624402.0</td>\n",
              "      <td>0.0</td>\n",
              "      <td>0.0</td>\n",
              "    </tr>\n",
              "    <tr>\n",
              "      <th>8</th>\n",
              "      <td>남양주시</td>\n",
              "      <td>41913.0</td>\n",
              "      <td>26221559.0</td>\n",
              "      <td>21194212.0</td>\n",
              "      <td>0.0</td>\n",
              "      <td>0.0</td>\n",
              "      <td>0.0</td>\n",
              "      <td>0.0</td>\n",
              "      <td>0.0</td>\n",
              "    </tr>\n",
              "    <tr>\n",
              "      <th>9</th>\n",
              "      <td>동두천시</td>\n",
              "      <td>7897.0</td>\n",
              "      <td>3793717.0</td>\n",
              "      <td>3232070.0</td>\n",
              "      <td>0.0</td>\n",
              "      <td>0.0</td>\n",
              "      <td>0.0</td>\n",
              "      <td>0.0</td>\n",
              "      <td>0.0</td>\n",
              "    </tr>\n",
              "    <tr>\n",
              "      <th>10</th>\n",
              "      <td>부천시</td>\n",
              "      <td>83361.0</td>\n",
              "      <td>56732767.0</td>\n",
              "      <td>47430400.0</td>\n",
              "      <td>0.0</td>\n",
              "      <td>0.0</td>\n",
              "      <td>0.0</td>\n",
              "      <td>0.0</td>\n",
              "      <td>0.0</td>\n",
              "    </tr>\n",
              "    <tr>\n",
              "      <th>11</th>\n",
              "      <td>성남시</td>\n",
              "      <td>0.0</td>\n",
              "      <td>85887567.0</td>\n",
              "      <td>75912908.0</td>\n",
              "      <td>50619.0</td>\n",
              "      <td>10130415.0</td>\n",
              "      <td>7917563.0</td>\n",
              "      <td>27538195.0</td>\n",
              "      <td>27411000.0</td>\n",
              "    </tr>\n",
              "    <tr>\n",
              "      <th>12</th>\n",
              "      <td>수원시</td>\n",
              "      <td>91057.0</td>\n",
              "      <td>44363168.0</td>\n",
              "      <td>33647768.0</td>\n",
              "      <td>0.0</td>\n",
              "      <td>0.0</td>\n",
              "      <td>0.0</td>\n",
              "      <td>0.0</td>\n",
              "      <td>0.0</td>\n",
              "    </tr>\n",
              "    <tr>\n",
              "      <th>13</th>\n",
              "      <td>시흥시</td>\n",
              "      <td>0.0</td>\n",
              "      <td>0.0</td>\n",
              "      <td>0.0</td>\n",
              "      <td>89839.0</td>\n",
              "      <td>47044837.0</td>\n",
              "      <td>37326376.0</td>\n",
              "      <td>16877293.0</td>\n",
              "      <td>14170001.0</td>\n",
              "    </tr>\n",
              "    <tr>\n",
              "      <th>14</th>\n",
              "      <td>안산시</td>\n",
              "      <td>58095.0</td>\n",
              "      <td>40523820.0</td>\n",
              "      <td>33152038.0</td>\n",
              "      <td>0.0</td>\n",
              "      <td>0.0</td>\n",
              "      <td>0.0</td>\n",
              "      <td>21448870.0</td>\n",
              "      <td>16598650.0</td>\n",
              "    </tr>\n",
              "    <tr>\n",
              "      <th>15</th>\n",
              "      <td>안성시</td>\n",
              "      <td>13690.0</td>\n",
              "      <td>13051501.0</td>\n",
              "      <td>11746925.0</td>\n",
              "      <td>0.0</td>\n",
              "      <td>0.0</td>\n",
              "      <td>0.0</td>\n",
              "      <td>0.0</td>\n",
              "      <td>0.0</td>\n",
              "    </tr>\n",
              "    <tr>\n",
              "      <th>16</th>\n",
              "      <td>안양시</td>\n",
              "      <td>26214.0</td>\n",
              "      <td>9968599.0</td>\n",
              "      <td>7695085.0</td>\n",
              "      <td>0.0</td>\n",
              "      <td>0.0</td>\n",
              "      <td>0.0</td>\n",
              "      <td>25355905.0</td>\n",
              "      <td>22586255.0</td>\n",
              "    </tr>\n",
              "    <tr>\n",
              "      <th>17</th>\n",
              "      <td>양주시</td>\n",
              "      <td>18635.0</td>\n",
              "      <td>14497360.0</td>\n",
              "      <td>12317764.0</td>\n",
              "      <td>0.0</td>\n",
              "      <td>0.0</td>\n",
              "      <td>0.0</td>\n",
              "      <td>0.0</td>\n",
              "      <td>0.0</td>\n",
              "    </tr>\n",
              "    <tr>\n",
              "      <th>18</th>\n",
              "      <td>양평군</td>\n",
              "      <td>12020.0</td>\n",
              "      <td>14613675.0</td>\n",
              "      <td>13486446.0</td>\n",
              "      <td>0.0</td>\n",
              "      <td>0.0</td>\n",
              "      <td>0.0</td>\n",
              "      <td>0.0</td>\n",
              "      <td>0.0</td>\n",
              "    </tr>\n",
              "    <tr>\n",
              "      <th>19</th>\n",
              "      <td>여주시</td>\n",
              "      <td>12052.0</td>\n",
              "      <td>6292053.0</td>\n",
              "      <td>5281201.0</td>\n",
              "      <td>0.0</td>\n",
              "      <td>0.0</td>\n",
              "      <td>0.0</td>\n",
              "      <td>0.0</td>\n",
              "      <td>0.0</td>\n",
              "    </tr>\n",
              "    <tr>\n",
              "      <th>20</th>\n",
              "      <td>연천군</td>\n",
              "      <td>6554.0</td>\n",
              "      <td>4102629.0</td>\n",
              "      <td>3483451.0</td>\n",
              "      <td>0.0</td>\n",
              "      <td>0.0</td>\n",
              "      <td>0.0</td>\n",
              "      <td>0.0</td>\n",
              "      <td>0.0</td>\n",
              "    </tr>\n",
              "    <tr>\n",
              "      <th>21</th>\n",
              "      <td>오산시</td>\n",
              "      <td>21821.0</td>\n",
              "      <td>12713965.0</td>\n",
              "      <td>10367211.0</td>\n",
              "      <td>0.0</td>\n",
              "      <td>0.0</td>\n",
              "      <td>0.0</td>\n",
              "      <td>0.0</td>\n",
              "      <td>0.0</td>\n",
              "    </tr>\n",
              "    <tr>\n",
              "      <th>22</th>\n",
              "      <td>용인시</td>\n",
              "      <td>63892.0</td>\n",
              "      <td>33401696.0</td>\n",
              "      <td>25710594.0</td>\n",
              "      <td>0.0</td>\n",
              "      <td>0.0</td>\n",
              "      <td>0.0</td>\n",
              "      <td>0.0</td>\n",
              "      <td>0.0</td>\n",
              "    </tr>\n",
              "    <tr>\n",
              "      <th>23</th>\n",
              "      <td>의왕시</td>\n",
              "      <td>10393.0</td>\n",
              "      <td>3585557.0</td>\n",
              "      <td>2702195.0</td>\n",
              "      <td>0.0</td>\n",
              "      <td>0.0</td>\n",
              "      <td>0.0</td>\n",
              "      <td>6845415.0</td>\n",
              "      <td>6059420.0</td>\n",
              "    </tr>\n",
              "    <tr>\n",
              "      <th>24</th>\n",
              "      <td>의정부시</td>\n",
              "      <td>29639.0</td>\n",
              "      <td>16240895.0</td>\n",
              "      <td>13787221.0</td>\n",
              "      <td>0.0</td>\n",
              "      <td>0.0</td>\n",
              "      <td>0.0</td>\n",
              "      <td>0.0</td>\n",
              "      <td>0.0</td>\n",
              "    </tr>\n",
              "    <tr>\n",
              "      <th>25</th>\n",
              "      <td>이천시</td>\n",
              "      <td>15696.0</td>\n",
              "      <td>10420367.0</td>\n",
              "      <td>7952910.0</td>\n",
              "      <td>0.0</td>\n",
              "      <td>0.0</td>\n",
              "      <td>0.0</td>\n",
              "      <td>0.0</td>\n",
              "      <td>0.0</td>\n",
              "    </tr>\n",
              "    <tr>\n",
              "      <th>26</th>\n",
              "      <td>파주시</td>\n",
              "      <td>35104.0</td>\n",
              "      <td>17269763.0</td>\n",
              "      <td>14224341.0</td>\n",
              "      <td>0.0</td>\n",
              "      <td>0.0</td>\n",
              "      <td>0.0</td>\n",
              "      <td>0.0</td>\n",
              "      <td>0.0</td>\n",
              "    </tr>\n",
              "    <tr>\n",
              "      <th>27</th>\n",
              "      <td>평택시</td>\n",
              "      <td>9089.0</td>\n",
              "      <td>4629417.0</td>\n",
              "      <td>4215864.0</td>\n",
              "      <td>0.0</td>\n",
              "      <td>0.0</td>\n",
              "      <td>0.0</td>\n",
              "      <td>17566705.0</td>\n",
              "      <td>12673300.0</td>\n",
              "    </tr>\n",
              "    <tr>\n",
              "      <th>28</th>\n",
              "      <td>포천시</td>\n",
              "      <td>6816.0</td>\n",
              "      <td>2501552.0</td>\n",
              "      <td>2003078.0</td>\n",
              "      <td>0.0</td>\n",
              "      <td>0.0</td>\n",
              "      <td>0.0</td>\n",
              "      <td>2270800.0</td>\n",
              "      <td>1797323.0</td>\n",
              "    </tr>\n",
              "    <tr>\n",
              "      <th>29</th>\n",
              "      <td>하남시</td>\n",
              "      <td>33367.0</td>\n",
              "      <td>33361354.0</td>\n",
              "      <td>25462840.0</td>\n",
              "      <td>0.0</td>\n",
              "      <td>0.0</td>\n",
              "      <td>0.0</td>\n",
              "      <td>0.0</td>\n",
              "      <td>0.0</td>\n",
              "    </tr>\n",
              "    <tr>\n",
              "      <th>30</th>\n",
              "      <td>화성시</td>\n",
              "      <td>70942.0</td>\n",
              "      <td>43701366.0</td>\n",
              "      <td>36272934.0</td>\n",
              "      <td>0.0</td>\n",
              "      <td>0.0</td>\n",
              "      <td>0.0</td>\n",
              "      <td>0.0</td>\n",
              "      <td>0.0</td>\n",
              "    </tr>\n",
              "  </tbody>\n",
              "</table>\n",
              "</div>"
            ],
            "text/plain": [
              "   SiGun  new_card     deposit  ...  mobile_use  papaer_gc_sell  paper_gc_return\n",
              "0    가평군    3918.0   2248100.0  ...         0.0       1439640.0        1466500.0\n",
              "1    고양시   80872.0  63126614.0  ...         0.0             0.0              0.0\n",
              "2    과천시    9249.0   6617717.0  ...         0.0       5999440.0        4837530.0\n",
              "3    광명시   26088.0  12859502.0  ...         0.0             0.0              0.0\n",
              "4    광주시   26087.0  16811939.0  ...         0.0             0.0              0.0\n",
              "5    구리시   16131.0   8676964.0  ...         0.0             0.0              0.0\n",
              "6    군포시   33631.0  29672228.0  ...         0.0             0.0              0.0\n",
              "7    김포시       0.0         0.0  ...  50624402.0             0.0              0.0\n",
              "8   남양주시   41913.0  26221559.0  ...         0.0             0.0              0.0\n",
              "9   동두천시    7897.0   3793717.0  ...         0.0             0.0              0.0\n",
              "10   부천시   83361.0  56732767.0  ...         0.0             0.0              0.0\n",
              "11   성남시       0.0  85887567.0  ...   7917563.0      27538195.0       27411000.0\n",
              "12   수원시   91057.0  44363168.0  ...         0.0             0.0              0.0\n",
              "13   시흥시       0.0         0.0  ...  37326376.0      16877293.0       14170001.0\n",
              "14   안산시   58095.0  40523820.0  ...         0.0      21448870.0       16598650.0\n",
              "15   안성시   13690.0  13051501.0  ...         0.0             0.0              0.0\n",
              "16   안양시   26214.0   9968599.0  ...         0.0      25355905.0       22586255.0\n",
              "17   양주시   18635.0  14497360.0  ...         0.0             0.0              0.0\n",
              "18   양평군   12020.0  14613675.0  ...         0.0             0.0              0.0\n",
              "19   여주시   12052.0   6292053.0  ...         0.0             0.0              0.0\n",
              "20   연천군    6554.0   4102629.0  ...         0.0             0.0              0.0\n",
              "21   오산시   21821.0  12713965.0  ...         0.0             0.0              0.0\n",
              "22   용인시   63892.0  33401696.0  ...         0.0             0.0              0.0\n",
              "23   의왕시   10393.0   3585557.0  ...         0.0       6845415.0        6059420.0\n",
              "24  의정부시   29639.0  16240895.0  ...         0.0             0.0              0.0\n",
              "25   이천시   15696.0  10420367.0  ...         0.0             0.0              0.0\n",
              "26   파주시   35104.0  17269763.0  ...         0.0             0.0              0.0\n",
              "27   평택시    9089.0   4629417.0  ...         0.0      17566705.0       12673300.0\n",
              "28   포천시    6816.0   2501552.0  ...         0.0       2270800.0        1797323.0\n",
              "29   하남시   33367.0  33361354.0  ...         0.0             0.0              0.0\n",
              "30   화성시   70942.0  43701366.0  ...         0.0             0.0              0.0\n",
              "\n",
              "[31 rows x 9 columns]"
            ]
          },
          "metadata": {
            "tags": []
          },
          "execution_count": 9
        }
      ]
    },
    {
      "cell_type": "code",
      "metadata": {
        "id": "so4kTouIbNQt",
        "colab_type": "code",
        "colab": {
          "base_uri": "https://localhost:8080/",
          "height": 381
        },
        "outputId": "1bcf762a-0ce4-4ec4-eedf-0b4c971581b3"
      },
      "source": [
        "#그래프 한글 깨짐-일단 이거 먼저 실행하고(나눔고딕 설치)-->런타임 다시 하고-->그다음 \n",
        "#plt.rc('font',family=\"NanumBarunGothic\")\n",
        "!sudo apt-get install -y fonts-nanum\n",
        "!sudo fc-cache -fv\n",
        "!rm ~/.cache/matplotlib -rf"
      ],
      "execution_count": 11,
      "outputs": [
        {
          "output_type": "stream",
          "text": [
            "Reading package lists... Done\n",
            "Building dependency tree       \n",
            "Reading state information... Done\n",
            "fonts-nanum is already the newest version (20170925-1).\n",
            "The following package was automatically installed and is no longer required:\n",
            "  libnvidia-common-440\n",
            "Use 'sudo apt autoremove' to remove it.\n",
            "0 upgraded, 0 newly installed, 0 to remove and 35 not upgraded.\n",
            "/usr/share/fonts: caching, new cache contents: 0 fonts, 1 dirs\n",
            "/usr/share/fonts/truetype: caching, new cache contents: 0 fonts, 3 dirs\n",
            "/usr/share/fonts/truetype/humor-sans: caching, new cache contents: 1 fonts, 0 dirs\n",
            "/usr/share/fonts/truetype/liberation: caching, new cache contents: 16 fonts, 0 dirs\n",
            "/usr/share/fonts/truetype/nanum: caching, new cache contents: 10 fonts, 0 dirs\n",
            "/usr/local/share/fonts: caching, new cache contents: 0 fonts, 0 dirs\n",
            "/root/.local/share/fonts: skipping, no such directory\n",
            "/root/.fonts: skipping, no such directory\n",
            "/var/cache/fontconfig: cleaning cache directory\n",
            "/root/.cache/fontconfig: not cleaning non-existent cache directory\n",
            "/root/.fontconfig: not cleaning non-existent cache directory\n",
            "fc-cache: succeeded\n"
          ],
          "name": "stdout"
        }
      ]
    },
    {
      "cell_type": "code",
      "metadata": {
        "id": "dqGYkTdzKfXl",
        "colab_type": "code",
        "colab": {
          "base_uri": "https://localhost:8080/",
          "height": 1000
        },
        "outputId": "7e0ee8dd-0ea4-47d1-eeaf-a6f86a6b5dcd"
      },
      "source": [
        "import seaborn as sns\n",
        "import matplotlib.pyplot as plt\n",
        "plt.rc('font',family='NanumBarunGothic')\n",
        "sns.barplot(x='new_card',y='SiGun',data=df.sort_values('new_card',ascending=False))\n",
        "plt.rcParams['figure.figsize']=(20,20)\n",
        "#이거할때 data=df_group으로 하면 에러남! 못찾아서 그런가?\n",
        "plt.show()"
      ],
      "execution_count": 21,
      "outputs": [
        {
          "output_type": "display_data",
          "data": {
            "image/png": "[encoded data removed]",
            "text/plain": [
              "<Figure size 1440x1440 with 1 Axes>"
            ]
          },
          "metadata": {
            "tags": [],
            "needs_background": "light"
          }
        }
      ]
    },
    {
      "cell_type": "code",
      "metadata": {
        "id": "TUMfwMA1LEE4",
        "colab_type": "code",
        "colab": {
          "base_uri": "https://localhost:8080/",
          "height": 1000
        },
        "outputId": "830afa15-7dc4-4546-e7f4-9ff6ecea2af4"
      },
      "source": [
        "fig,(ax1,ax2)=plt.subplots(ncols=2)\n",
        "sns.barplot('deposit','SiGun',data=df.sort_values('deposit',ascending=False),ax=ax1)\n",
        "sns.barplot('use','SiGun',data=df.sort_values('use',ascending=False),ax=ax2)\n",
        "plt.rc('font',family='NanumBarunGothic')"
      ],
      "execution_count": 23,
      "outputs": [
        {
          "output_type": "display_data",
          "data": {
            "image/png": "[encoded data removed]",
            "text/plain": [
              "<Figure size 1440x1440 with 2 Axes>"
            ]
          },
          "metadata": {
            "tags": [],
            "needs_background": "light"
          }
        }
      ]
    },
    {
      "cell_type": "code",
      "metadata": {
        "id": "EyQOhZJEgwQX",
        "colab_type": "code",
        "colab": {
          "base_uri": "https://localhost:8080/",
          "height": 387
        },
        "outputId": "21ec682f-71a6-47e7-f9c2-e8e29ab30e21"
      },
      "source": [
        "sns.relplot(x='deposit',y='use',data=df,hue='deposit')"
      ],
      "execution_count": 25,
      "outputs": [
        {
          "output_type": "execute_result",
          "data": {
            "text/plain": [
              "<seaborn.axisgrid.FacetGrid at 0x7fa015eaf080>"
            ]
          },
          "metadata": {
            "tags": []
          },
          "execution_count": 25
        },
        {
          "output_type": "display_data",
          "data": {
            "image/png": "[encoded data removed]",
            "text/plain": [
              "<Figure size 430.125x360 with 1 Axes>"
            ]
          },
          "metadata": {
            "tags": [],
            "needs_background": "light"
          }
        }
      ]
    },
    {
      "cell_type": "code",
      "metadata": {
        "id": "26nQ1l7mjYM0",
        "colab_type": "code",
        "colab": {}
      },
      "source": [
        "from sklearn.linear_model import LinearRegression\n",
        "line_fitter=LineRegression()\n",
        "line_fitter.fit(x,y)"
      ],
      "execution_count": null,
      "outputs": []
    },
    {
      "cell_type": "code",
      "metadata": {
        "id": "O2QUQFYAj9Yz",
        "colab_type": "code",
        "colab": {
          "base_uri": "https://localhost:8080/",
          "height": 387
        },
        "outputId": "9aa37189-9c1c-4b8d-a6b5-98ccc2430497"
      },
      "source": [
        "sns.relplot(x='new_card',y='deposit',data=df,hue=\"new_card\")"
      ],
      "execution_count": 33,
      "outputs": [
        {
          "output_type": "execute_result",
          "data": {
            "text/plain": [
              "<seaborn.axisgrid.FacetGrid at 0x7fa00fc88160>"
            ]
          },
          "metadata": {
            "tags": []
          },
          "execution_count": 33
        },
        {
          "output_type": "display_data",
          "data": {
            "image/png": "[encoded data removed]",
            "text/plain": [
              "<Figure size 440.125x360 with 1 Axes>"
            ]
          },
          "metadata": {
            "tags": [],
            "needs_background": "light"
          }
        }
      ]
    },
    {
      "cell_type": "code",
      "metadata": {
        "id": "tq2DONyHkBhl",
        "colab_type": "code",
        "colab": {}
      },
      "source": [
        "df['ratio']=df['use']/df['deposit']"
      ],
      "execution_count": 37,
      "outputs": []
    },
    {
      "cell_type": "code",
      "metadata": {
        "id": "tBN-Rx4xnt3j",
        "colab_type": "code",
        "colab": {}
      },
      "source": [
        ""
      ],
      "execution_count": null,
      "outputs": []
    },
    {
      "cell_type": "code",
      "metadata": {
        "id": "5ivffLEsm-XN",
        "colab_type": "code",
        "colab": {
          "base_uri": "https://localhost:8080/",
          "height": 138
        },
        "outputId": "d4b9816b-2583-4969-a750-dc152816d55f"
      },
      "source": [
        "df.head(3)"
      ],
      "execution_count": 35,
      "outputs": [
        {
          "output_type": "execute_result",
          "data": {
            "text/html": [
              "<div>\n",
              "<style scoped>\n",
              "    .dataframe tbody tr th:only-of-type {\n",
              "        vertical-align: middle;\n",
              "    }\n",
              "\n",
              "    .dataframe tbody tr th {\n",
              "        vertical-align: top;\n",
              "    }\n",
              "\n",
              "    .dataframe thead th {\n",
              "        text-align: right;\n",
              "    }\n",
              "</style>\n",
              "<table border=\"1\" class=\"dataframe\">\n",
              "  <thead>\n",
              "    <tr style=\"text-align: right;\">\n",
              "      <th></th>\n",
              "      <th>SiGun</th>\n",
              "      <th>yymm</th>\n",
              "      <th>new_card</th>\n",
              "      <th>deposit</th>\n",
              "      <th>use</th>\n",
              "      <th>giftcard</th>\n",
              "      <th>mobile_deposit</th>\n",
              "      <th>mobile_use</th>\n",
              "      <th>papaer_gc_sell</th>\n",
              "      <th>paper_gc_return</th>\n",
              "      <th>ratio</th>\n",
              "    </tr>\n",
              "  </thead>\n",
              "  <tbody>\n",
              "    <tr>\n",
              "      <th>0</th>\n",
              "      <td>가평군</td>\n",
              "      <td>Mar-20</td>\n",
              "      <td>655.0</td>\n",
              "      <td>389311.0</td>\n",
              "      <td>297771.0</td>\n",
              "      <td>NaN</td>\n",
              "      <td>NaN</td>\n",
              "      <td>NaN</td>\n",
              "      <td>125240.0</td>\n",
              "      <td>118550.0</td>\n",
              "      <td>0.764867</td>\n",
              "    </tr>\n",
              "    <tr>\n",
              "      <th>1</th>\n",
              "      <td>가평군</td>\n",
              "      <td>Feb-20</td>\n",
              "      <td>211.0</td>\n",
              "      <td>180458.0</td>\n",
              "      <td>230384.0</td>\n",
              "      <td>NaN</td>\n",
              "      <td>NaN</td>\n",
              "      <td>NaN</td>\n",
              "      <td>70190.0</td>\n",
              "      <td>95570.0</td>\n",
              "      <td>1.276663</td>\n",
              "    </tr>\n",
              "    <tr>\n",
              "      <th>2</th>\n",
              "      <td>가평군</td>\n",
              "      <td>Jan-20</td>\n",
              "      <td>338.0</td>\n",
              "      <td>288742.0</td>\n",
              "      <td>247582.0</td>\n",
              "      <td>NaN</td>\n",
              "      <td>NaN</td>\n",
              "      <td>NaN</td>\n",
              "      <td>161750.0</td>\n",
              "      <td>121040.0</td>\n",
              "      <td>0.857451</td>\n",
              "    </tr>\n",
              "  </tbody>\n",
              "</table>\n",
              "</div>"
            ],
            "text/plain": [
              "  SiGun    yymm  new_card  ...  papaer_gc_sell  paper_gc_return     ratio\n",
              "0   가평군  Mar-20     655.0  ...        125240.0         118550.0  0.764867\n",
              "1   가평군  Feb-20     211.0  ...         70190.0          95570.0  1.276663\n",
              "2   가평군  Jan-20     338.0  ...        161750.0         121040.0  0.857451\n",
              "\n",
              "[3 rows x 11 columns]"
            ]
          },
          "metadata": {
            "tags": []
          },
          "execution_count": 35
        }
      ]
    },
    {
      "cell_type": "code",
      "metadata": {
        "id": "crrY9O1Gm_qZ",
        "colab_type": "code",
        "colab": {
          "base_uri": "https://localhost:8080/",
          "height": 1000
        },
        "outputId": "a4a1f3ae-a694-46f9-a9b8-9bec39a22002"
      },
      "source": [
        "sns.barplot(x='ratio',y='SiGun',data=df)"
      ],
      "execution_count": 41,
      "outputs": [
        {
          "output_type": "execute_result",
          "data": {
            "text/plain": [
              "<matplotlib.axes._subplots.AxesSubplot at 0x7fa00e6efcf8>"
            ]
          },
          "metadata": {
            "tags": []
          },
          "execution_count": 41
        },
        {
          "output_type": "display_data",
          "data": {
            "image/png": "[encoded data removed]",
            "text/plain": [
              "<Figure size 1440x1440 with 1 Axes>"
            ]
          },
          "metadata": {
            "tags": [],
            "needs_background": "light"
          }
        }
      ]
    },
    {
      "cell_type": "code",
      "metadata": {
        "id": "iaEatHTVnjwi",
        "colab_type": "code",
        "colab": {}
      },
      "source": [
        ""
      ],
      "execution_count": null,
      "outputs": []
    }
  ]
}